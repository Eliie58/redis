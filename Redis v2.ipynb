{
 "cells": [
  {
   "cell_type": "markdown",
   "metadata": {
    "id": "u1AUhqWeUXq2"
   },
   "source": [
    "# Welcome to Redis"
   ]
  },
  {
   "cell_type": "markdown",
   "metadata": {},
   "source": [
    "The open-source, in-memory data store used by millions of developers as a cache, vector database, document database, streaming engine, and message broker."
   ]
  },
  {
   "cell_type": "markdown",
   "metadata": {},
   "source": [
    "## Redis Data Types"
   ]
  },
  {
   "cell_type": "markdown",
   "metadata": {},
   "source": [
    "Redis is a data structure server. At its core, Redis provides a collection of native data types that help you solve a wide variety of problems, from caching to queuing to event processing."
   ]
  },
  {
   "cell_type": "markdown",
   "metadata": {},
   "source": [
    "### Strings"
   ]
  },
  {
   "cell_type": "markdown",
   "metadata": {},
   "source": [
    "Redis strings store sequences of bytes, including text, serialized objects, and binary arrays. As such, strings are the simplest type of value you can associate with a Redis key. They're often used for caching, but they support additional functionality that lets you implement counters and perform bitwise operations, too.\n",
    "\n",
    "the SET and the GET commands are the way we set and retrieve a string value. Note that SET will replace any existing value already stored into the key, in the case that the key already exists, even if the key is associated with a non-string value.\n",
    "\n",
    "- SET\n",
    "    ```\n",
    "    SET bike:1 Deimos\n",
    "    ```\n",
    "- GET\n",
    "    ```\n",
    "    GET bike:1\n",
    "    ```"
   ]
  },
  {
   "cell_type": "markdown",
   "metadata": {},
   "source": [
    "#### Increment"
   ]
  },
  {
   "cell_type": "markdown",
   "metadata": {},
   "source": [
    "The INCR command parses the string value as an integer, increments it by one, and finally sets the obtained value as the new value. There are other similar commands like INCRBY, DECR and DECRBY. Internally it's always the same command, acting in a slightly different way.\n",
    "\n",
    "```\n",
    "SET total_crashes 0\n",
    "INCR total_crashes\n",
    "INCRBY total_crashes 10\n",
    "GET total_crashes\n",
    "```"
   ]
  },
  {
   "cell_type": "markdown",
   "metadata": {},
   "source": [
    "### Lists"
   ]
  },
  {
   "cell_type": "markdown",
   "metadata": {},
   "source": [
    "Redis lists are linked lists of string values. Redis lists are frequently used to:\n",
    "- Implement stacks and queues.\n",
    "- Build queue management for background worker systems."
   ]
  },
  {
   "cell_type": "markdown",
   "metadata": {},
   "source": [
    "#### Basic Commands"
   ]
  },
  {
   "cell_type": "markdown",
   "metadata": {},
   "source": [
    "##### LPUSH"
   ]
  },
  {
   "cell_type": "markdown",
   "metadata": {},
   "source": [
    "Adds a new element to the head of a list\n",
    "\n",
    "```\n",
    "LPUSH bikes:repairs bike:1\n",
    "```"
   ]
  },
  {
   "cell_type": "markdown",
   "metadata": {},
   "source": [
    "##### RPUSH"
   ]
  },
  {
   "cell_type": "markdown",
   "metadata": {},
   "source": [
    "Adds a new element to the tail of a list\n",
    "\n",
    "```\n",
    "RPUSH bikes:repairs bike:2\n",
    "```"
   ]
  },
  {
   "cell_type": "markdown",
   "metadata": {},
   "source": [
    "##### LPOP"
   ]
  },
  {
   "cell_type": "markdown",
   "metadata": {},
   "source": [
    "Removes and returns an element from the head of a list\n",
    "\n",
    "```\n",
    "LPOP bikes:repairs\n",
    "```"
   ]
  },
  {
   "cell_type": "markdown",
   "metadata": {},
   "source": [
    "##### RPOP"
   ]
  },
  {
   "cell_type": "markdown",
   "metadata": {},
   "source": [
    "Removes and returns an element from the tail of a list\n",
    "\n",
    "```\n",
    "RPOP bikes:repairs\n",
    "```"
   ]
  },
  {
   "cell_type": "markdown",
   "metadata": {},
   "source": [
    "##### LLEN"
   ]
  },
  {
   "cell_type": "markdown",
   "metadata": {},
   "source": [
    "Returns the length of a list.\n",
    "\n",
    "```\n",
    "LLEN bikes:repairs\n",
    "```"
   ]
  },
  {
   "cell_type": "markdown",
   "metadata": {},
   "source": [
    "##### LMOVE"
   ]
  },
  {
   "cell_type": "markdown",
   "metadata": {},
   "source": [
    "Atomically moves elements from one list to another.\n",
    "\n",
    "```\n",
    "LPUSH bikes:repairs bike:1\n",
    "LPUSH bikes:repairs bike:2\n",
    "LMOVE bikes:repairs bikes:finished LEFT LEFT\n",
    "```"
   ]
  },
  {
   "cell_type": "markdown",
   "metadata": {},
   "source": [
    "##### LTRIM"
   ]
  },
  {
   "cell_type": "markdown",
   "metadata": {},
   "source": [
    "Reduces a list to the specified range of elements.\n",
    "\n",
    "```\n",
    "RPUSH bikes:repairs bike:1 bike:2 bike:3 bike:4 bike:5\n",
    "LTRIM bikes:repairs 0 2\n",
    "```"
   ]
  },
  {
   "cell_type": "markdown",
   "metadata": {},
   "source": [
    "##### LRANGE"
   ]
  },
  {
   "cell_type": "markdown",
   "metadata": {},
   "source": [
    "Extracts ranges of elements from lists\n",
    "\n",
    "```\n",
    "LRANGE bikes:repais 0 -1\n",
    "```"
   ]
  },
  {
   "cell_type": "markdown",
   "metadata": {},
   "source": [
    "#### Use Cases"
   ]
  },
  {
   "cell_type": "markdown",
   "metadata": {},
   "source": [
    "##### Queue (First In, First Out)"
   ]
  },
  {
   "cell_type": "markdown",
   "metadata": {},
   "source": [
    "```\n",
    "LPUSH bikes:repairs bike:1\n",
    "LPUSH bikes:repairs bike:2\n",
    "RPOP bikes:repairs\n",
    "RPOP bikes:repairs\n",
    "```"
   ]
  },
  {
   "cell_type": "markdown",
   "metadata": {},
   "source": [
    "##### Stack (First In, Last Out)"
   ]
  },
  {
   "cell_type": "markdown",
   "metadata": {},
   "source": [
    "```\n",
    "LPUSH bikes:repairs bike:1\n",
    "LPUSH bikes:repairs bike:2\n",
    "LPOP bikes:repairs\n",
    "LPOP bikes:repairs\n",
    "```"
   ]
  },
  {
   "cell_type": "markdown",
   "metadata": {},
   "source": [
    "#### Exercises"
   ]
  },
  {
   "cell_type": "markdown",
   "metadata": {},
   "source": [
    "*Create a Task List*\n",
    "\n",
    "Create a list `tasks` and add the following elements (in order):\n",
    "* task1\n",
    "* task2\n",
    "* task3\n",
    "* task4\n",
    "\n",
    "*Hint*: Use `RPUSH`."
   ]
  },
  {
   "cell_type": "code",
   "execution_count": null,
   "metadata": {},
   "outputs": [],
   "source": []
  },
  {
   "cell_type": "markdown",
   "metadata": {},
   "source": [
    "*Add Tasks to the Front*\n",
    "\n",
    "Add two tasks (`task0` and `urgent_task`) to the beginning of the list.\n",
    "\n",
    "*Hint*: Use `LPUSH`."
   ]
  },
  {
   "cell_type": "code",
   "execution_count": null,
   "metadata": {},
   "outputs": [],
   "source": []
  },
  {
   "cell_type": "markdown",
   "metadata": {},
   "source": [
    "*Retrieve All Tasks*\n",
    "\n",
    "Retrieve all tasks in the list.\n",
    "\n",
    "*Hint*: Use `LRANGE` with a range of `0 -1`."
   ]
  },
  {
   "cell_type": "code",
   "execution_count": null,
   "metadata": {},
   "outputs": [],
   "source": []
  },
  {
   "cell_type": "markdown",
   "metadata": {},
   "source": [
    "*Check List Length*\n",
    "\n",
    "Find the total number of tasks in the list.\n",
    "\n",
    "*Hint*: Use `LLEN`."
   ]
  },
  {
   "cell_type": "code",
   "execution_count": null,
   "metadata": {},
   "outputs": [],
   "source": []
  },
  {
   "cell_type": "markdown",
   "metadata": {},
   "source": [
    "*Retrieve Specific Tasks*\n",
    "\n",
    "Retrieve the second task in the list.\n",
    "\n",
    "Hint: Use `LINDEX` (remember, indices are 0-based)."
   ]
  },
  {
   "cell_type": "code",
   "execution_count": null,
   "metadata": {},
   "outputs": [],
   "source": []
  },
  {
   "cell_type": "markdown",
   "metadata": {},
   "source": [
    "*Remove Tasks*\n",
    "\n",
    "1. Remove and return the first task in the list.\n",
    "2. Remove and return the last task in the list.\n",
    "\n",
    "*Hint*: Use `LPOP` and `RPOP`."
   ]
  },
  {
   "cell_type": "code",
   "execution_count": null,
   "metadata": {},
   "outputs": [],
   "source": []
  },
  {
   "cell_type": "markdown",
   "metadata": {},
   "source": [
    "*Update a Task*\n",
    "\n",
    "Update the third task in the list to `revised_task3`.\n",
    "\n",
    "*Hint*: Use `LSET`."
   ]
  },
  {
   "cell_type": "code",
   "execution_count": null,
   "metadata": {},
   "outputs": [],
   "source": []
  },
  {
   "cell_type": "markdown",
   "metadata": {},
   "source": [
    "*Trim the List*\n",
    "\n",
    "Trim the list to only keep the first three tasks.\n",
    "\n",
    "*Hint*: Use `LTRIM`."
   ]
  },
  {
   "cell_type": "code",
   "execution_count": null,
   "metadata": {},
   "outputs": [],
   "source": []
  },
  {
   "cell_type": "markdown",
   "metadata": {},
   "source": [
    "### Sets"
   ]
  },
  {
   "cell_type": "markdown",
   "metadata": {},
   "source": [
    "A Redis set is an unordered collection of unique strings (members). You can use Redis sets to efficiently:\n",
    "- Track unique items (e.g., track all unique IP addresses accessing a given blog post).\n",
    "- Represent relations (e.g., the set of all users with a given role).\n",
    "- Perform common set operations such as intersection, unions, and differences."
   ]
  },
  {
   "cell_type": "markdown",
   "metadata": {},
   "source": [
    "#### Basic Commands"
   ]
  },
  {
   "cell_type": "markdown",
   "metadata": {},
   "source": [
    "##### SADD"
   ]
  },
  {
   "cell_type": "markdown",
   "metadata": {},
   "source": [
    "Adds a new member to a set.\n",
    "\n",
    "```\n",
    "SADD bikes:racing:france bike:1\n",
    "```"
   ]
  },
  {
   "cell_type": "markdown",
   "metadata": {},
   "source": [
    "##### SREM"
   ]
  },
  {
   "cell_type": "markdown",
   "metadata": {},
   "source": [
    "Removes the specified member from the set.\n",
    "\n",
    "```\n",
    "SREM bikes:racing:france bike:1\n",
    "```"
   ]
  },
  {
   "cell_type": "markdown",
   "metadata": {},
   "source": [
    "##### SISMEMBER"
   ]
  },
  {
   "cell_type": "markdown",
   "metadata": {},
   "source": [
    "Tests a string for set membership.\n",
    "\n",
    "```\n",
    "SADD bikes:racing:france bike:1\n",
    "SADD bikes:racing:usa bike:1 bike:4\n",
    "SISMEMBER bikes:racing:usa bike:1\n",
    "SISMEMBER bikes:racing:france bike:4\n",
    "```"
   ]
  },
  {
   "cell_type": "markdown",
   "metadata": {},
   "source": [
    "##### SINTER"
   ]
  },
  {
   "cell_type": "markdown",
   "metadata": {},
   "source": [
    "Returns the set of members that two or more sets have in common (i.e., the intersection).\n",
    "\n",
    "```\n",
    "SINTER bikes:racing:france bikes:racing:usa\n",
    "```"
   ]
  },
  {
   "cell_type": "markdown",
   "metadata": {},
   "source": [
    "##### SCARD"
   ]
  },
  {
   "cell_type": "markdown",
   "metadata": {},
   "source": [
    "Returns the size (a.k.a. cardinality) of a set.\n",
    "\n",
    "```\n",
    "SCARD bikes:racing:france\n",
    "```"
   ]
  },
  {
   "cell_type": "markdown",
   "metadata": {},
   "source": [
    "#### Exercises"
   ]
  },
  {
   "cell_type": "markdown",
   "metadata": {},
   "source": [
    "*Create a Set*\n",
    "\n",
    "Create a set `visitors:today` and add the following members:\n",
    "* `user1`\n",
    "* `user2`\n",
    "* `user3`\n",
    "* `user4`\n",
    "\n",
    "*Hint*: Use `SADD`."
   ]
  },
  {
   "cell_type": "code",
   "execution_count": null,
   "metadata": {},
   "outputs": [],
   "source": []
  },
  {
   "cell_type": "markdown",
   "metadata": {},
   "source": [
    "*Check Membership*\n",
    "\n",
    "Check if `user2` is a member of `visitors:today`.\n",
    "\n",
    "*Hint*: Use `SISMEMBER`."
   ]
  },
  {
   "cell_type": "code",
   "execution_count": null,
   "metadata": {},
   "outputs": [],
   "source": []
  },
  {
   "cell_type": "markdown",
   "metadata": {},
   "source": [
    "*Retrieve All Members*\n",
    "\n",
    "Retrieve all members of the set `visitors:today`.\n",
    "\n",
    "*Hint*: Use `SMEMBERS`."
   ]
  },
  {
   "cell_type": "code",
   "execution_count": null,
   "metadata": {},
   "outputs": [],
   "source": []
  },
  {
   "cell_type": "markdown",
   "metadata": {},
   "source": [
    "*Count Members*\n",
    "\n",
    "Find the number of unique visitors in `visitors:today`.\n",
    "\n",
    "*Hint*: Use `SCARD`."
   ]
  },
  {
   "cell_type": "code",
   "execution_count": null,
   "metadata": {},
   "outputs": [],
   "source": []
  },
  {
   "cell_type": "markdown",
   "metadata": {},
   "source": [
    "*Remove Members*\n",
    "\n",
    "Remove `user3` from the `visitors:today` set.\n",
    "\n",
    "*Hint*: Use `SREM`.\n",
    "\n"
   ]
  },
  {
   "cell_type": "code",
   "execution_count": null,
   "metadata": {},
   "outputs": [],
   "source": []
  },
  {
   "cell_type": "markdown",
   "metadata": {},
   "source": [
    "*Perform Intersection*\n",
    "\n",
    "Create another set `visitors:yesterday` with the following members:\n",
    "\n",
    "* `user2`\n",
    "* `user3`\n",
    "* `user5`\n",
    "\n",
    "Find the visitors who were present both today and yesterday.\n",
    "\n",
    "*Hint*: Use `SINTER`."
   ]
  },
  {
   "cell_type": "code",
   "execution_count": null,
   "metadata": {},
   "outputs": [],
   "source": []
  },
  {
   "cell_type": "markdown",
   "metadata": {},
   "source": [
    "*Perform Union*\n",
    "\n",
    "Find all unique visitors from `visitors:today` and `visitors:yesterday`.\n",
    "\n",
    "*Hint*: Use `SUNION`."
   ]
  },
  {
   "cell_type": "code",
   "execution_count": null,
   "metadata": {},
   "outputs": [],
   "source": []
  },
  {
   "cell_type": "markdown",
   "metadata": {},
   "source": [
    "*Perform Difference*\n",
    "\n",
    "Find the visitors who were present today but not yesterday\n",
    "\n",
    "*Hint*: Use `SDIFF`."
   ]
  },
  {
   "cell_type": "raw",
   "metadata": {
    "vscode": {
     "languageId": "raw"
    }
   },
   "source": []
  },
  {
   "cell_type": "markdown",
   "metadata": {},
   "source": [
    "### Sorted Sets"
   ]
  },
  {
   "cell_type": "markdown",
   "metadata": {},
   "source": [
    "A Redis sorted set is a collection of unique strings, where each string (called a member) is associated with a score. Unlike regular sets, sorted sets maintain the order of members based on their scores."
   ]
  },
  {
   "cell_type": "markdown",
   "metadata": {},
   "source": [
    "#### Use Cases for Sorted Sets"
   ]
  },
  {
   "cell_type": "markdown",
   "metadata": {},
   "source": [
    "* Leaderboard tracking (e.g., player scores in a game).\n",
    "* Task scheduling (e.g., processing tasks based on priority or timestamp).\n",
    "* Sorted data representation (e.g., top songs sorted by play count)."
   ]
  },
  {
   "cell_type": "markdown",
   "metadata": {},
   "source": [
    "#### Basic Commands"
   ]
  },
  {
   "cell_type": "markdown",
   "metadata": {},
   "source": [
    "##### ZADD"
   ]
  },
  {
   "cell_type": "markdown",
   "metadata": {},
   "source": [
    "Adds a new member to a sorted set with a given score or updates the score if the member already exists."
   ]
  },
  {
   "cell_type": "markdown",
   "metadata": {},
   "source": [
    "```bash\n",
    "ZADD leaderboard 100 player1\n",
    "ZADD leaderboard 200 player2\n",
    "ZADD leaderboard 150 player3\n",
    "```"
   ]
  },
  {
   "cell_type": "markdown",
   "metadata": {},
   "source": [
    "##### ZRANGE"
   ]
  },
  {
   "cell_type": "markdown",
   "metadata": {
    "vscode": {
     "languageId": "plaintext"
    }
   },
   "source": [
    "Retrieves members in a sorted set by their rank (position in the sorted order).\n",
    "By default, ranks are 0-based and in ascending order of scores."
   ]
  },
  {
   "cell_type": "markdown",
   "metadata": {},
   "source": [
    "```bash\n",
    "ZRANGE leaderboard 0 -1\n",
    "ZRANGE leaderboard 0 -1 WITHSCORES\n",
    "```"
   ]
  },
  {
   "cell_type": "markdown",
   "metadata": {},
   "source": [
    "##### ZREVRANGE"
   ]
  },
  {
   "cell_type": "markdown",
   "metadata": {},
   "source": [
    "Retrieves members in reverse order of their rank (highest scores first)."
   ]
  },
  {
   "cell_type": "markdown",
   "metadata": {},
   "source": [
    "```bash\n",
    "ZREVRANGE leaderboard 0 2\n",
    "ZREVRANGE leaderboard 0 2 WITHSCORES\n",
    "```"
   ]
  },
  {
   "cell_type": "markdown",
   "metadata": {},
   "source": [
    "###### ZSCORE"
   ]
  },
  {
   "cell_type": "markdown",
   "metadata": {},
   "source": [
    "Retrieves the score of a specific member in the sorted set."
   ]
  },
  {
   "cell_type": "markdown",
   "metadata": {},
   "source": [
    "```bash\n",
    "ZSCORE leaderboard player1\n",
    "```"
   ]
  },
  {
   "cell_type": "markdown",
   "metadata": {},
   "source": [
    "##### ZRANK and ZREVRANK"
   ]
  },
  {
   "cell_type": "markdown",
   "metadata": {},
   "source": [
    "Retrieves the rank of a member in the sorted set.\n",
    "\n",
    "* `ZRANK`: Rank in ascending order of scores.\n",
    "* `ZREVRANK`: Rank in descending order of scores."
   ]
  },
  {
   "cell_type": "markdown",
   "metadata": {},
   "source": [
    "```bash\n",
    "ZRANK leaderboard player1\n",
    "ZREVRANK leaderboard player2\n",
    "```"
   ]
  },
  {
   "cell_type": "markdown",
   "metadata": {},
   "source": [
    "##### ZREM"
   ]
  },
  {
   "cell_type": "markdown",
   "metadata": {},
   "source": [
    "Removes one or more members from the sorted set."
   ]
  },
  {
   "cell_type": "markdown",
   "metadata": {},
   "source": [
    "```bash\n",
    "ZREM leaderboard player3\n",
    "```"
   ]
  },
  {
   "cell_type": "markdown",
   "metadata": {},
   "source": [
    "##### ZCOUNT"
   ]
  },
  {
   "cell_type": "markdown",
   "metadata": {},
   "source": [
    "Counts the members with scores within a specified range."
   ]
  },
  {
   "cell_type": "markdown",
   "metadata": {},
   "source": [
    "```bash\n",
    "ZCOUNT leaderboard 100 200\n",
    "```"
   ]
  },
  {
   "cell_type": "markdown",
   "metadata": {},
   "source": [
    "##### ZINTER and ZUNION"
   ]
  },
  {
   "cell_type": "markdown",
   "metadata": {},
   "source": [
    "Performs intersections or unions of multiple sorted sets and optionally applies a weighting factor to scores.\n",
    "\n"
   ]
  },
  {
   "cell_type": "markdown",
   "metadata": {},
   "source": [
    "```bash\n",
    "ZADD set1 1 member1 2 member2\n",
    "ZADD set2 2 member2 3 member3\n",
    "\n",
    "ZINTER 2 result set1 set2 WEIGHTS 2 3\n",
    "ZUNION 2 result set1 set2 WEIGHTS 1 1\n",
    "```"
   ]
  },
  {
   "cell_type": "markdown",
   "metadata": {},
   "source": [
    "##### ZPOP"
   ]
  },
  {
   "cell_type": "markdown",
   "metadata": {},
   "source": [
    "Pops one or more elements from a sorted set:\n",
    "\n",
    "* `ZPOPMIN`: Removes the member with the lowest score.\n",
    "* `ZPOPMAX`: Removes the member with the highest score."
   ]
  },
  {
   "cell_type": "markdown",
   "metadata": {},
   "source": [
    "#### Exercises"
   ]
  },
  {
   "cell_type": "markdown",
   "metadata": {},
   "source": [
    "*Create a Leaderboard*\n",
    "\n",
    "Add the following players and scores to a sorted set called `leaderboard`:\n",
    "* `Alice`: `120`\n",
    "* `Bob`: `250`\n",
    "* `Charlie`: `180`\n",
    "\n",
    "*Hint:* Use `ZADD`"
   ]
  },
  {
   "cell_type": "code",
   "execution_count": null,
   "metadata": {},
   "outputs": [],
   "source": []
  },
  {
   "cell_type": "markdown",
   "metadata": {
    "vscode": {
     "languageId": "plaintext"
    }
   },
   "source": [
    "*Retrieve Top Players*\n",
    "\n",
    "Retrieve the top 2 players (highest scores) from the leaderboard.\n",
    "\n",
    "*Hint*: Use `ZREVRANGE` with a range of `0 1`."
   ]
  },
  {
   "cell_type": "code",
   "execution_count": null,
   "metadata": {},
   "outputs": [],
   "source": []
  },
  {
   "cell_type": "markdown",
   "metadata": {},
   "source": [
    "*Find Player Rank*\n",
    "\n",
    "Determine Charlie's rank in the leaderboard (ascending order).\n",
    "\n",
    "*Hint*: Use `ZRANK`."
   ]
  },
  {
   "cell_type": "code",
   "execution_count": null,
   "metadata": {},
   "outputs": [],
   "source": []
  },
  {
   "cell_type": "markdown",
   "metadata": {},
   "source": [
    "*Remove a Player*\n",
    "\n",
    "Remove Bob from the leaderboard.\n",
    "\n",
    "*Hint*: Use `ZREM`."
   ]
  },
  {
   "cell_type": "code",
   "execution_count": null,
   "metadata": {},
   "outputs": [],
   "source": []
  },
  {
   "cell_type": "markdown",
   "metadata": {},
   "source": [
    "*Merge Leaderboards*\n",
    "Create a second sorted set `new_scores` with the following data:\n",
    "\n",
    "* `Daisy`: `300`\n",
    "* `Eve`: `150`\n",
    "\n",
    "Perform a union of `leaderboard` and `new_scores`, storing the result in a new sorted set `merged_leaderboard`.\n",
    "\n",
    "*Hint*: Use `ZUNION`.\n",
    "\n"
   ]
  },
  {
   "cell_type": "code",
   "execution_count": null,
   "metadata": {},
   "outputs": [],
   "source": []
  },
  {
   "cell_type": "markdown",
   "metadata": {},
   "source": [
    "*Pop the Extremes*\n",
    "\n",
    "* Remove and return the player with the lowest score.\n",
    "* Remove and return the player with the highest score.\n",
    "\n",
    "*Hint*: Use `ZPOPMIN` and `ZPOPMAX`."
   ]
  },
  {
   "cell_type": "code",
   "execution_count": null,
   "metadata": {},
   "outputs": [],
   "source": []
  },
  {
   "cell_type": "markdown",
   "metadata": {},
   "source": [
    "### Hashes"
   ]
  },
  {
   "cell_type": "markdown",
   "metadata": {},
   "source": [
    "A Redis hash is a collection of key-value pairs, similar to a dictionary or object in programming languages. Hashes are ideal for representing objects with multiple fields, such as user profiles or product data."
   ]
  },
  {
   "cell_type": "markdown",
   "metadata": {},
   "source": [
    "#### Use Cases for Hashes"
   ]
  },
  {
   "cell_type": "markdown",
   "metadata": {},
   "source": [
    "* Storing user profiles (e.g., username, email, age).\n",
    "* Caching database rows (e.g., columns as fields and values).\n",
    "* Session management (e.g., tracking user activity data).\n"
   ]
  },
  {
   "cell_type": "markdown",
   "metadata": {},
   "source": [
    "#### Basic Commands"
   ]
  },
  {
   "cell_type": "markdown",
   "metadata": {},
   "source": [
    "##### HSET"
   ]
  },
  {
   "cell_type": "markdown",
   "metadata": {},
   "source": [
    "Sets multiple fields in the hash to a specified value.\n",
    "If the field already exists, it overwrites the value.\n",
    "\n"
   ]
  },
  {
   "cell_type": "markdown",
   "metadata": {},
   "source": [
    "```bash\n",
    "HSET user:1001 name \"Alice\" age 25 city \"Paris\"\n",
    "```"
   ]
  },
  {
   "cell_type": "markdown",
   "metadata": {},
   "source": [
    "##### HGET"
   ]
  },
  {
   "cell_type": "markdown",
   "metadata": {},
   "source": [
    "Retrieves the value of a specific field in the hash."
   ]
  },
  {
   "cell_type": "markdown",
   "metadata": {},
   "source": [
    "```bash\n",
    "HGET user:1001 name\n",
    "```"
   ]
  },
  {
   "cell_type": "markdown",
   "metadata": {},
   "source": [
    "##### HGETALL"
   ]
  },
  {
   "cell_type": "markdown",
   "metadata": {},
   "source": [
    "Retrieves all fields and values from the hash."
   ]
  },
  {
   "cell_type": "markdown",
   "metadata": {},
   "source": [
    "```bash\n",
    "HGETALL user:1001\n",
    "```"
   ]
  },
  {
   "cell_type": "markdown",
   "metadata": {},
   "source": [
    "##### HMGET"
   ]
  },
  {
   "cell_type": "markdown",
   "metadata": {},
   "source": [
    "Retrieves multiple fields' values from the hash."
   ]
  },
  {
   "cell_type": "markdown",
   "metadata": {},
   "source": [
    "```bash\n",
    "HMGET user:1001 name city\n",
    "```"
   ]
  },
  {
   "cell_type": "markdown",
   "metadata": {},
   "source": [
    "##### HDEL"
   ]
  },
  {
   "cell_type": "markdown",
   "metadata": {},
   "source": [
    "Deletes one or more fields from the hash."
   ]
  },
  {
   "cell_type": "markdown",
   "metadata": {},
   "source": [
    "```bash\n",
    "HDEL user:1001 age\n",
    "```"
   ]
  },
  {
   "cell_type": "markdown",
   "metadata": {},
   "source": [
    "##### HEXISTS"
   ]
  },
  {
   "cell_type": "markdown",
   "metadata": {},
   "source": [
    "Checks if a specific field exists in the hash."
   ]
  },
  {
   "cell_type": "markdown",
   "metadata": {},
   "source": [
    "```bash\n",
    "HEXISTS user:1001 city\n",
    "```"
   ]
  },
  {
   "cell_type": "markdown",
   "metadata": {},
   "source": [
    "##### HLEN"
   ]
  },
  {
   "cell_type": "markdown",
   "metadata": {},
   "source": [
    "Returns the number of fields in the hash."
   ]
  },
  {
   "cell_type": "markdown",
   "metadata": {},
   "source": [
    "```bash\n",
    "HLEN user:1001\n",
    "```"
   ]
  },
  {
   "cell_type": "markdown",
   "metadata": {},
   "source": [
    "##### HINCRBY / HINCRBYFLOAT"
   ]
  },
  {
   "cell_type": "markdown",
   "metadata": {},
   "source": [
    "Increments the value of a field by a specified amount (integer or float)."
   ]
  },
  {
   "cell_type": "markdown",
   "metadata": {},
   "source": [
    "```bash\n",
    "HINCRBY user:1001 age 1\n",
    "HINCRBYFLOAT user:1001 score 0.5\n",
    "```"
   ]
  },
  {
   "cell_type": "markdown",
   "metadata": {},
   "source": [
    "##### HKEYS"
   ]
  },
  {
   "cell_type": "markdown",
   "metadata": {},
   "source": [
    "Retrieves all field names in the hash."
   ]
  },
  {
   "cell_type": "markdown",
   "metadata": {},
   "source": [
    "```bash\n",
    "HKEYS user:1001\n",
    "```"
   ]
  },
  {
   "cell_type": "markdown",
   "metadata": {},
   "source": [
    "##### HVALS"
   ]
  },
  {
   "cell_type": "markdown",
   "metadata": {},
   "source": [
    "Retrieves all values in the hash."
   ]
  },
  {
   "cell_type": "markdown",
   "metadata": {},
   "source": [
    "```bash\n",
    "HVALS user:1001\n",
    "```"
   ]
  },
  {
   "cell_type": "markdown",
   "metadata": {},
   "source": [
    "#### Exercises"
   ]
  },
  {
   "cell_type": "markdown",
   "metadata": {},
   "source": [
    "*Create a User Profile*\n",
    "\n",
    "Create a hash `user:1` with the following fields:\n",
    "* name: \"Alice\"\n",
    "* age: 25\n",
    "* city: \"Paris\"\n",
    "\n",
    "*Hint*: Use `HSET`."
   ]
  },
  {
   "cell_type": "code",
   "execution_count": null,
   "metadata": {},
   "outputs": [],
   "source": []
  },
  {
   "cell_type": "markdown",
   "metadata": {},
   "source": [
    "*Retrieve Field Values*\n",
    "\n",
    "Retrieve the `name` and `city` fields from the `user:1` hash.\n",
    "\n",
    "*Hint*: Use `HMGET`."
   ]
  },
  {
   "cell_type": "code",
   "execution_count": null,
   "metadata": {},
   "outputs": [],
   "source": []
  },
  {
   "cell_type": "markdown",
   "metadata": {},
   "source": [
    "*Check Field Existence*\n",
    "\n",
    "Check if the `age` field exists in the `user:1` hash.\n",
    "\n",
    "*Hint*: Use `HEXISTS`."
   ]
  },
  {
   "cell_type": "code",
   "execution_count": null,
   "metadata": {},
   "outputs": [],
   "source": []
  },
  {
   "cell_type": "markdown",
   "metadata": {},
   "source": [
    "*Increment Age*\n",
    "\n",
    "Increment Alice's `age` by 1.\n",
    "\n",
    "*Hint*: Use `HINCRBY`."
   ]
  },
  {
   "cell_type": "code",
   "execution_count": null,
   "metadata": {},
   "outputs": [],
   "source": []
  },
  {
   "cell_type": "markdown",
   "metadata": {},
   "source": [
    "*Delete a Field*\n",
    "\n",
    "Delete the `city` field from the `user:1` hash.\n",
    "\n",
    "*Hint*: Use `HDEL`."
   ]
  },
  {
   "cell_type": "code",
   "execution_count": null,
   "metadata": {},
   "outputs": [],
   "source": []
  },
  {
   "cell_type": "markdown",
   "metadata": {},
   "source": [
    "*Retrieve All Fields and Values*\n",
    "\n",
    "Retrieve all fields and values from the `user:1` hash.\n",
    "\n",
    "*Hint*: Use `HGETALL`."
   ]
  },
  {
   "cell_type": "code",
   "execution_count": null,
   "metadata": {},
   "outputs": [],
   "source": []
  }
 ],
 "metadata": {
  "colab": {
   "provenance": []
  },
  "kernelspec": {
   "display_name": "Python 3",
   "name": "python3"
  },
  "language_info": {
   "name": "python",
   "version": "3.9.6"
  }
 },
 "nbformat": 4,
 "nbformat_minor": 0
}
